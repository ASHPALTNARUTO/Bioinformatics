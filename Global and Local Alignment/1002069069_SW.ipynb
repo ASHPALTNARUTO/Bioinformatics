{
 "cells": [
  {
   "cell_type": "code",
   "execution_count": 2,
   "id": "e1fe3b25",
   "metadata": {},
   "outputs": [
    {
     "name": "stdout",
     "output_type": "stream",
     "text": [
      "[[0 0 0 0 0 0]\n",
      " [0 0 0 0 1 0]\n",
      " [0 0 1 0 0 0]\n",
      " [0 0 0 2 0 1]\n",
      " [0 1 0 0 1 0]\n",
      " [0 0 2 0 0 0]]\n",
      "Alignment: ('TA', 'TA')\n"
     ]
    }
   ],
   "source": [
    "import numpy as np\n",
    "\n",
    "class Solution:\n",
    "    def local_alignment(self, sequence_A: str, sequence_B:str, substitution: dict, gap: int ) -> tuple:\n",
    "        n, m = len(sequence_A), len(sequence_B)\n",
    "        D = [[0]*(m+1) for i in range(n+1)]\n",
    "        max_score = 0\n",
    "        max_pos = None\n",
    "\n",
    "        for i in range(1, n+1):\n",
    "            for j in range(1, m+1):\n",
    "                _match = D[i-1][j-1] + substitution_matrix[sequence_A[i-1]][sequence_B[j-1]]\n",
    "                _delete = D[i-1][j] + gap_penalty\n",
    "                _insert = D[i][j-1] + gap_penalty\n",
    "                D[i][j] = max(0, _match, _delete, _insert)\n",
    "                if D[i][j] > max_score:\n",
    "                    max_score = D[i][j]\n",
    "                    max_pos = (i, j)\n",
    "        \n",
    "        possible_alignments = []\n",
    "        i, j = max_pos\n",
    "        alignment_A, alignment_B = \"\", \"\"\n",
    "        while D[i][j] != 0:\n",
    "            if D[i][j] == D[i-1][j-1] + substitution_matrix[sequence_A[i-1]][sequence_B[j-1]]:\n",
    "                alignment_A = sequence_A[i-1] + alignment_A\n",
    "                alignment_B = sequence_B[j-1] + alignment_B\n",
    "                i -= 1\n",
    "                j -= 1\n",
    "            elif D[i][j] == D[i-1][j] + gap:\n",
    "                alignment_A = sequence_A[i-1] + alignment_A\n",
    "                alignment_B = \"-\" + alignment_B\n",
    "                i -= 1\n",
    "            else:\n",
    "                alignment_A = \"-\" + alignment_A\n",
    "                alignment_B = sequence_B[j-1] + alignment_B\n",
    "                j -= 1\n",
    "\n",
    "        possible_alignments.append((alignment_A, alignment_B))\n",
    "        \n",
    "        print(np.matrix(D))\n",
    "        return possible_alignments[0]\n",
    "\n",
    "s = Solution()\n",
    "sequence_A = input(\"Enter Sequence A:\")\n",
    "sequence_B = input(\"Enter Sequence B:\")\n",
    "gap_penalty=int(input(\"Gap penalty :\"))\n",
    "match_score = +1\n",
    "mismatch_score = -1\n",
    "substitution_matrix={}\n",
    "for i in set(sequence_A+sequence_B):\n",
    "  dict={}\n",
    "  for j in set(sequence_A+sequence_B):\n",
    "    if i==j:\n",
    "      dict[j]=match_score\n",
    "    else:\n",
    "      dict[j]=mismatch_score\n",
    "  substitution_matrix[i]=dict\n",
    "alignment = s.local_alignment(sequence_A, sequence_B, substitution_matrix, gap_penalty)\n",
    "print(\"Alignment:\", alignment)"
   ]
  },
  {
   "cell_type": "code",
   "execution_count": null,
   "id": "cd87e3e1",
   "metadata": {},
   "outputs": [],
   "source": []
  }
 ],
 "metadata": {
  "kernelspec": {
   "display_name": "Python 3 (ipykernel)",
   "language": "python",
   "name": "python3"
  },
  "language_info": {
   "codemirror_mode": {
    "name": "ipython",
    "version": 3
   },
   "file_extension": ".py",
   "mimetype": "text/x-python",
   "name": "python",
   "nbconvert_exporter": "python",
   "pygments_lexer": "ipython3",
   "version": "3.10.7"
  }
 },
 "nbformat": 4,
 "nbformat_minor": 5
}
