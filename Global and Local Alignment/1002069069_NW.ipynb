{
 "cells": [
  {
   "cell_type": "code",
   "execution_count": 1,
   "id": "febbd0cd",
   "metadata": {},
   "outputs": [
    {
     "name": "stdout",
     "output_type": "stream",
     "text": [
      "[[  0  -2  -4  -6  -8]\n",
      " [ -2   1  -1  -3  -5]\n",
      " [ -4  -1   0   0  -2]\n",
      " [ -6  -3  -2  -1   1]\n",
      " [ -8  -5  -4  -3  -1]\n",
      " [-10  -7  -4  -5  -3]]\n",
      "[('A-CTAG', 'AGCT--')]\n"
     ]
    }
   ],
   "source": [
    "import numpy as np\n",
    "class Solution:\n",
    "    def global_alignment(self, sequence_A: str, sequence_B:str, substitution: dict, gap: int ) -> tuple:\n",
    "        n, m = len(sequence_A), len(sequence_B)\n",
    "        D = [[0]*(m+1) for i in range(n+1)]\n",
    "        for i in range(1, n+1):\n",
    "            D[i][0] = D[i-1][0] + gap_penalty\n",
    "        for j in range(1, m+1):\n",
    "            D[0][j] = D[0][j-1] + gap_penalty\n",
    "\n",
    "        for i in range(1, n+1):\n",
    "            for j in range(1, m+1):\n",
    "                _match = D[i-1][j-1] + substitution_matrix[sequence_A[i-1]][sequence_B[j-1]]\n",
    "                _delete = D[i-1][j] + gap_penalty\n",
    "                _insert = D[i][j-1] + gap_penalty\n",
    "                D[i][j] = max(_match, _delete, _insert)\n",
    "        \n",
    "      \n",
    "        possible_alignments = []\n",
    "        backtrack = [(n, m, \"\", \"\")]\n",
    "        while backtrack:\n",
    "            i, j, alignment_A, alignment_B = backtrack.pop()\n",
    "            if i == 0 and j == 0:\n",
    "                possible_alignments.append((alignment_A[::-1], alignment_B[::-1]))\n",
    "            else:\n",
    "                if i > 0 and j > 0 and D[i][j] == D[i-1][j-1] + substitution_matrix[sequence_A[i-1]][sequence_B[j-1]]:\n",
    "                    backtrack.append((i-1, j-1, alignment_A + sequence_A[i-1], alignment_B + sequence_B[j-1]))\n",
    "                if i > 0 and D[i][j] == D[i-1][j] + gap_penalty:\n",
    "                    backtrack.append((i-1, j, alignment_A + sequence_A[i-1], alignment_B + \"-\"))\n",
    "                if j > 0 and D[i][j] == D[i][j-1] + gap_penalty:\n",
    "                    backtrack.append((i, j-1, alignment_A + \"-\", alignment_B + sequence_B[j-1]))\n",
    "        print(np.matrix(D))\n",
    "        return possible_alignments\n",
    "\n",
    "\n",
    "s = Solution()\n",
    "sequence_A = input(\"Enter Sequence A:\")\n",
    "sequence_B = input(\"Enter Sequence B:\")\n",
    "gap_penalty=int(input(\"Gap penalty :\"))\n",
    "match_score = +1\n",
    "mismatch_score = -1\n",
    "substitution_matrix={}\n",
    "for i in set(sequence_A+sequence_B):\n",
    "  dict={}\n",
    "  for j in set(sequence_A+sequence_B):\n",
    "    if i==j:\n",
    "      dict[j]=match_score\n",
    "    else:\n",
    "      dict[j]=mismatch_score\n",
    "  substitution_matrix[i]=dict\n",
    "list_of_alignments = s.global_alignment(sequence_A, sequence_B, substitution_matrix, gap_penalty)\n",
    "print(list_of_alignments)"
   ]
  },
  {
   "cell_type": "code",
   "execution_count": null,
   "id": "38e52dee",
   "metadata": {},
   "outputs": [],
   "source": []
  }
 ],
 "metadata": {
  "kernelspec": {
   "display_name": "Python 3 (ipykernel)",
   "language": "python",
   "name": "python3"
  },
  "language_info": {
   "codemirror_mode": {
    "name": "ipython",
    "version": 3
   },
   "file_extension": ".py",
   "mimetype": "text/x-python",
   "name": "python",
   "nbconvert_exporter": "python",
   "pygments_lexer": "ipython3",
   "version": "3.9.13"
  }
 },
 "nbformat": 4,
 "nbformat_minor": 5
}
