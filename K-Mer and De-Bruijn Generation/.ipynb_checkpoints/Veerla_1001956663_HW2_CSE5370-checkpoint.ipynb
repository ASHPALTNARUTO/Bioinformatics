{
 "cells": [
  {
   "cell_type": "markdown",
   "id": "ACBEgSuMCHMb",
   "metadata": {
    "id": "ACBEgSuMCHMb"
   },
   "source": [
    "# **Generate a Synthetic Genome**"
   ]
  },
  {
   "cell_type": "code",
   "execution_count": 1,
   "id": "78422e5c",
   "metadata": {
    "id": "78422e5c"
   },
   "outputs": [],
   "source": [
    "import random\n",
    "random.seed(18)\n",
    "GenomeString =\"ACTG\"\n",
    "DNA=\"\"\n",
    "for i in range(10000):\n",
    "    DNA=DNA+random.choice(GenomeString)"
   ]
  },
  {
   "cell_type": "code",
   "execution_count": 2,
   "id": "8f453962",
   "metadata": {
    "colab": {
     "base_uri": "https://localhost:8080/",
     "height": 208
    },
    "id": "8f453962",
    "outputId": "5569123a-7d9f-4463-e96d-60dffbaaf147",
    "scrolled": true
   },
   "outputs": [
    {
     "data": {
      "application/vnd.google.colaboratory.intrinsic+json": {
       "type": "string"
      },
      "text/plain": [
       "'CAGTCCGGCGTGTCTATCCCCCTCGCTTATGCGTTTTATGCGCCCGCGGACTTGAGCGCGACATCGACAGGGCGGCTGTCTTTCGAGCCGAGAATGGGGGCCCCTTGAATCCCTACCCTATATTATTCGGGATGATGTACTCTCGAATTGACAGTCACTGGGTGACCAAGTAATCCCTACCGTAGCTGCGCTGATAGTTACCACTCCGACAGCGAGGCCGTTGTCCGTTTCAACGAAGTTCGAATCTTAGTCATCCCCTCAACTCACCTTTTTTTTCGTGGTATGCCGTCGTCGCTTGTTGTCTAGCGAATAGGAGTGTCGTGCACAGTTGTTTTCTCATACGCTGAGTTCATCTCGGCAAGTTTCAACCAACGACCGGCTCGGAGCGTGGAGAATCATCTAAAAATTTTGCTGTAACGACTTCAAGAGTAGATCATATCGCCCGGCACTTTCGGCTCTGGTGCGGCGATCCGGTGCATAAAGCGAGTATATCTCACCCCTAGTGCGCTCCATGCTTGACATGTGGGGGCGGTACCTTAGCCACCATCAATCGCGACCTGAAGGACTTGACTTGGTTTAAAAGACTCAAAAATGGAACGAGTGCCGGTCCTACTCGGGCAATTGAGCAAATTAAGAGGAAACGAACAGTTCGAGAGGCTGACCCAACTGAGTTAACAGCATAGTGCTTTTTAGGAATATCTTTATCCACAGGATGCTCTGGCAAATCAAGTAGGATTCACGAATAGCCGGTTTTTTTCCTTCGTCTAGAGGTCATCTTGATGGCTCCGTATTAATGAGCCACAGAAACGCTGAGAGCACTGCCAACACTAATACCTTGTGTGGTTGCTGGACAGCTTAGTAACACCTGACTGGTCTAGACCTAGTTTCTGGGTTCTCGAAATGGTCAAAACCAGAAATTCGTGATACTACAGACGTTGATACAGCCTTGATGATTTATATATGCTACGGGTTATTGGTGTAGCCCACATCCACGCTGACTTTTAAGCACCTACCGGACATTGAGTGAGTAACCGTACGGTGACGATTTCCGGAAGACTAGCCGCCGGCTATAGATCTTTAGCGTCGTATTGCAGCGCTTTAACGAGCATTGATGCGATAGGAACTACTCCCTTGAGAATCATGGGTAACAGGAGTCCTCTCTTGACCTGTCCTGTAGCAGGTCGCTAAATAGAATACTCCTGGGGGAGGTGTCTTCTTAACCATAGGGAGAATCGTAGAGCTGTCACAGAATTGCCTCGGTTGTTCACTCAATAGTTTTCAGCTGGGGGGCCTCTCGTCAGACAACCCTAGATCTGGTTACCGCGTACAATCCACAGAGAACAGCTACGCGTTTTGTCTTGCCACGGAGAAACGGCGCCTTCGAAATTTCTCGATCCTGATTTGACATTGACGTGTAGGGCGTCGTTTGCGTAATCAAATCTACTAGTGCTCTATCGGGCCGGAAACCCAATCTCTTGCGGGGTACACCATGTTAGCATAGGAGGTACTTTAATCCACCGATGATTGCGAACTATAACTCATGTGTCTGCGTCAGCTTGGTGATTAACTCTTAGCCCGCCGACGGTAAAGTGAGAGGGCATGCCATGTTACTCCTAGGGAATTTCTTGACAGGCGGGCCGATCTAGTTACCATGTACAGTGTCATAACTCTGCGACGCAATCCACGAGCGGGCGCTCAGGCCTAATCAAATTCTGCCAGACGCGCTTCTCATTAAGTGCTTCTCTCCCTTCTTGAGTCGGTTTGATGTTAAGTCGTAGAGTTTCGTCAGACGGTACATAGTAACGGGAAGTCGCCCAAGAGGTAAAACAGCTGTTGAAGGCAGCTACTTATTATATAGGATGCACTCCTTGTACAAGCGTGAGGCCGGTCAGAGTACTATCTGCATTTCTCAACGATAAATATATTAGACGATACCGGAAGGTGATCTCTCTAGAGACTTGATTGCTCATACAGACAAAGTTGCCAAATTAAACTGCCTCTTGCACTCCACTCCGATTTCCCGTGACGTGGTAGTTACAAATTAGCCAGTCCGTATCTTCTATCAATAGCTAATAACATCTCCCATTATGGACTAAATTCCCATCGTCAGCTAGGGCGTTCTGCGGTGAGATATATTCATGTGTATCCGAGATTTGAACATCTATCTACGCACACTAGTTATCGCAAGATGTGGATTCCCCCTATAACGCAAAAAGCATTAGGTGGTTGGGGTCGTCTCCCTCAGCTCCGTCTAGATCTCGAAATCAAGAACAGCGTTCAAGGGACCGGAAGAGCGGGTTATTGGGTCTCTGTTCGTGGTTTTTCAGATCTATACGCAAAGTGGTAACAGCGTCACTGCTCTATATTATACGGATATATCGGTTCCGCTCGCGCGAAATGCACATTACGTTCTACACGCCCTGGCGATAGATCCACGATCCTAGGTGTATTCGATATAGGTTCCGAAAGGGAAACAAATAAGCTCGTATTTACTTCTATCCCCAGGAGTAGATCCTTTTATTGTCGTGAAAGGTGAAGCTTGGTTTATTAATTGCAGGGTAGCGTTCAAGGGTAGTGTGAACACAGTTCACTCCCTACCGACGGCAAATGGTTCCTAAACGTTGGGCGGAACATCCTTATCGGTAGCGGAATATTATGCCGCACAGAGCCAAGGGTCCGCTTTCATATTTAATGACGAAATCTTACCTCATGCTCGTTTGTAGAATGGGTCCGACTTGGCTGAGTCTTATTGGACACTAGCGCGTTTGACCGTATTAAGACCAGGGGGTTTTCCGTCTAGGTCACAACATCCTGGAACCGTGAGGCACCGATAGAGATATGCCGGCTACCCAGGAGCCGGTGACTTCAGATACTGGCAGCCGAAAAAATTGAGTCACACTTGGAATGAGGAACGCGGGTGGTGTAGCTAGTGGAGATATGCATGTCCTCATACCACGCCCATAAAGACTAGAACGTGATCTTAGGGCCTCGGAATGCGAGCAATTGGAAATGGGAACCCTCCGATTTGCTATGTGTGGATGAGGACCCGGATGAAAGTATGAAGCATTTGATGGCCTTCTAGCGCGTACTTCCTGCATAGCGCGAATCAATTCGTTTCGCAGGACTTTCAAGAGCGCTAGCGTCAGGAAGCTCGCAAGGTCTCCCAGTTGTTGAGGAAAGCGGGGCTGGATCCTTCAATAAGGAAACTACACAGACTCAGCACCGGATCAACGGTGGAATTTTGTCTCGTTCCCAGTAAACAGTGAAGCACTCCCCACGCTTAGGACCAGCAGGGCTGCGCGCCACGAAAGAAGATTCGCGCTAGGATTTAGCTGCAGCTCGCGCACGTTTAAGACTCGATGAAGACGCATCCGCCATTGGTGCGCGGTGCTATATTCCCCCCTAAGAAGCCAGTCTGATGCTAGACAGGACTATTGTCAGTACAGAGAGTGTCGAGGAAAGGCCCTAGTAGACGCGGACAAAGCTGCACCGTGCGGGTAAGCTATCTATCAAACCACGGGCCCGTGCCCTCATATTGGCACCAATAGAAACGGATGAACCTTGGCGGACGAGTCTATATCGCGACACTTAGCCCCCGCAAAGAAGATAATCCACAGTGGGACGCGCGTTCCCCGCTGGTCCACCAATGTGGTTGTCTGATATCACAGCGCCCCTGCTTTCGGACCACTGTAAGATTGAGGGTTGGCTTGACCTTCGTCAACCGCGACGGGTTAGGGCAGGCTGATACCCCGTATGGGAGACAAACAAGGGACAATCCTTTCATAAGGGCGTATCCTTGCTACTAATTAATCTAGATGGGGCCGCTAGGTCGATCGCTAGCTTGGTGCCAAGATACCGCGGAAGGAACTACCGCCGTCTGTGTAATAAATGCAGGCCTACGGCCAGAGCCATGCGCAAAGCTTTTGATATCGCAGTTGTCGACGAGGGATAAAGGGGAGACTGGTAGTTGCTGGACCTTTCGTACCAATGTTCTTATGGGGAGCGATTTCGGGTAATCGCCCACGTCTCACGGGTTTATGTTTGGCCGCTATGAATACAAAGATTTGTGGCGATAGAATTCGAGCGGAAAGCGAGAAGCCCACCCCCGACGCGGGTTCGTGCATGCGAACTAACATCATGGGTCTAACAGTCCGGTATTGAACGCTAAAGAAGATCTTGAACTGGGCCCCTATATTAACCCAAGGCGCTTGTACGGGCGTGGCATTTAAGCCCTATGCATAACTATATGCAACGTTAGCGAATGGAACCTTGTCCAACGGCTCTTCACCATTCGAGGGGTAAGGCGGGCCAATTAATGTCGGCCTTTACAATCCGAAAGCATCTAGGCCACGTTATCGAGGCCATAATCTCCGAATTCCTGCGTAGACATCGTCCGGGGAGCAATATTAGCAGAAGGGCGAAGTGCACTGCATACCCCGTGCGATTTTTGACACGTGTCATCGATACTGTTAACATACCCGAAAGGCCACACCTCCAAAACTTGTCCCCCGGGAAGCGATCTATATCTACTTAATGTTATGTATTTCCATCAGCCCATACTAGTCGTAATCTAACGTTCTTCGAAAACGGAACTATGCTCGCAAAGCGTCGGTTCCACCAGAATCTTACATAGAACAACATGAAACCGGGGGAGAGCCCGGGTTAGTCCGAGCCCTTTCGAAGATTATAATTTTGTACCCCCGCAAAGGCTCAGCTACGGGACGAGGTGCAGTGAATTGAAAACTTTTGTTCGTCATCTCCATACAATAACAGGCCAGCATGCGGTAGGTGGCTTGCCCCGTAGCGATATATAGAAGAAGCCAAAGGTGAGATCAAGAGCAGTATGTTGCTTGGCCCAAAAGGGCCTCACGTTCATCTCCCAGCTTGATAGCTTTCAACGCAATTTAAGGCCCGGAAGGAGTGATGATGCCCAGGACTAGAGTTATCAAACGCCTGGTAAATACCCCCTTCTGATAATATATACGTTGTCAGCGCATATCAATCTACCAAGAGGAAAATCAAATGTCGTATACGGGCAAACTGAACGTGTATGACCGTTAAATTCTCAGGACTCGATTCTACTGAGTGGTCCTGCACACAAAAGCAGACACGAGCTGAAGAGATGGGACAATGCTTCAATTACTCGCTACATTCTACTCCTGGCAATAACTGGTGGTTTCGAGCCATCCCTCCCGTTAGCTCAGTCGCCACACTATAATATTACTATTCGGTCCTCGATAGCGGCGCGCTTGTGCCTATCCGGGGGACAGCCGTAAATATGACTATATCGGAGGCCCACTAGATACCGAGATAGTACCACAGGTTGACATTCCATAACAATAGGTAGTTCACCTGTAAGCTTCCTAGACATCGAGACTCATTGTAAGTGCTTATGATACTCAGGGAAGAGGGGTCGACTAGCACACCGCCGAGCTCGGTGGTACAAGCAAGGTTCACCTGATAATGCCTATTCCGTTCGGCGGGCCATTGTGCCGCAAACCTCAGCCACGGCAGGCCTTAGACGACACCCACCCGACTGTTTGCCCTCTACTACAGACCCCACTAGCAATCTTAGCGCGTCATACTAGTCTCCAGCATTGAATTACATGTATAACAATGGCCGTGGCCCGCTATAGAGCAAATAACTGTAGCGTGAGCCACTACGACTTTCGCAGAGGACCTCGTATTATAATATCTCTTCCTCGGTGTGCTTCCCTAGACAGGGGCCGACGGGGTGGCAACAACCCGTTCTCCTTTCGGAAGCTTCGTTACCGACTGTCGCATCCCTTTCTGGCCGATGTCGTAAGCACCCCTCTCAGGCTCGTCCTTTATTCAAAAATCGGTAGGCACCCTATTCTAGAGGCCAGACCTAACAACAACCATAACCTGATCCCTCCGCTCGCCCCACTCTCTCTCCGTGAACCCGCCTGCTCGTCCCCCTGATCTCTGGATTAACTCTCACGAGCGTCTCGAACGACTTCCATACACTAGCTCTTATAAGATGTCTGAGGCTACCAACGAATATCGTTCAGCATCTCCCGAGCTCCTACAGTTGGGATGTGTTTCCGTTTTAAAGATTCGTTAACATACAAGGGCAGCTGTTATATCACTTATGTGTTATTGTAGCAATGTCCCTCTGAACCTACTAAGACCCTGCTACAAGATAGTGAACCGCCTAAGGTATGTTTATTTCATACGGACACGGAGATTTGCATTCCTTGAGGTAACGGGGGAGCTCGGTCGCAAATTATCCGTGACAGAGTGTACGGTAATTGCATGATTTGCTCCGTGCCCAGGCTTATGGCGGTAACAAGTTGGTGCGCTTTGCGCGACATCGAACTACGTCTCGCTTAGGTGCAAAACAGCGATCGGGTTGGCCAATATTGGGCTGTACACATTCGTCCAGAACAGTTAAATCTATGCGTGTTAGTCCCGGGTACCACAAGACCTCCCATCGCGCACTTAAGGAAGTCTGTTCGACCCACTTTCCTGTTAGGCGTGATCTGTTACGCATCGCTCGGCAAGGGGATAAATCTCACAATGAGCGCCCTTAAGCTAGCACTCTTTGCACACTAAGTGATAGTTTATGGCATTCGACATGTTGGGCGCTGATCAGAATGCCTGATTCTATAGTGTAGACGAATGCGGGATTAACGAGGCCCCCTCGGCAATATACTGCTCGATCTGACCTCTTCGCTCCCTTCCTAGACAAGGTCAAAATATTCTCGATGCTAGCTTACGAGACTCTAAAGGACTGCTCCGAGTATTAACCCTGAACCAGGTTGTTTCTGCAAGACATGCGGGCCCAATACGGAGTATGACAGTACCTGACATCCCCGTACTGAGGATCTCCGTGTGTTAGTGCTTTGTTCGCATGTGAATAAAAAGACTATGGCCTGGTGTCTGTAAAGCCAAATATTTCGACCTGTAGCCTGAAGTTCAGTGCTAAAGCTAGATCCGCGATAGGCACCAAGTGTCTCAAAGATGCGAGCCTCTCGAGGAACGCGTATATATAATCATTAGCCCAATGGTGAATCTCCGGGGCATCTACACCGTAACGTAACTGTCCTTAAGGAATGGGGTTGCGTTACAGTTGTACGGTGTGGGAGTTTATTACTCCACATAGCTTTGGTGGTGTGTAGTGTCAACCTAGAGCTTGTGACGGGCACTTTCTGAGTATTCGTCAGCCTAAACGCTTAAAGCGGTACGGCTGTGGATGACTCTCACTTATATGTTACAATGAAGAGCAGATGGTCTTAAGTTCGACCGCGAAGACCGGGCAGAGATCATGTGCAAGGAATGATCCTCTCCAAACGACTACTCCGAGTCCTCTGGACCACTGACGACAATTACTAATAGCTAATGTCTTATCAGAAAGCAAGGAAACCGTTGGGGCAGAAGTGCCAACTCTGCCCGCAATTGTCTCAGGAGATTGGGATCCCCTTCGTGGAAACCCCGCGTTCACCAATTCGTCTACGCGCATCCATAACTCGTGATTTAAGCACCCCAGGTAGTTGTAACAGTAGCGATAGTTCCGTGTACGCTTGAGCGGGAACGTACTCCATTTCGTTGACCAGTATGAACTTCCATGCCGCGCACAGTGCTTATTCGCCTCTTACCCAGCTAAACTTGCTAGGAATTGCGAATATTCAACCCTATTCGGGCATTCGATCTTAGGCCCTGACCGCACAACCCGAGGGCCCTCACAATTACCAGCTCATTTGAAGACCCTTAGCTAGTACGAACAAGGTCGGTCTCTGGTGAAGTTGGACTTGAAAGGACGGAAGATTTACGCTTTGCCCTACGGAACATCGCGCCCAATATACAGTAGAATGTAAAGGACGAACTAAGCATATCGTTGTAGACCTAGTCCGGGGAGGGTAATTATGTGAGCAGGGTGACCTGTCCTGGATACAACTCCATACGATGTAGAGGACGCTCGAGCTGGACCCATACCTCTACAGGCAACTACGTACACAGAGCAAAATGTAAGAGGCTCCGGTGCACATAGATATGCCCTGAACGGTATGTGGAGGCGACAGGCTTCTTGCGAACATACGTTATCCGTGGCCAGGTGATAGACTATGGCTTTATTAAGGGAAGGCAGCACTCAGCCAGACCCGCTAGCTATGGGACTTATGGCCTAACTGTGCGTCGGATTAGTATTAGACGGCGATGCCTTGCAGTGGTCAATTGTACGACTTTGTCGTGATGTAAACGGTCAAAGGCAAAAGGGCGTAAGAATTTACGTAACTAGACGGACACAGATGTGCGCGCTTGTATACGTACTAATTGTTGGTATGGCTAATGAATAGACACAATCAAGTCTGGAAACTATAAGACAGGGCTGGTGTGCTGGGGTGACACCTTGGCTTAGGTGTGGGTATTGACTAACATGTTTCTTCTAGACTTCCGGAGAACAGCATGATTAGATGTTCCACTCCCTTTGCGCTGATTGATGTCAAACTAACTTCACACGGTTAGTCCAAACATTCATCCGAATGTGTAATGGTATTGCCTCACAAAGTGAGCGGACGCGGCCCTCCTTCATTTAAAGGCTGGGCAGTGTCTTTCCTGGTATACAATTGGTCCATCCGAATTGCACGGTAAGAAAATCCCGATAAAAACTAGCGACAATCGCGTTAGGCACAGCCGTGTGGCTGGTGATAGCTTAGCTCTTAATGTTTGACCCGGTTCCCTGTTCTGAATTTGTGCTGAAGATAAAGGGGTCTCGCGGTACTTCAATGCCTGGAGGCAACGTGTAGCGCTAGATTACAATAAATGCGTGAGGTGAAAAAGTCACGCCTGTGAAGTAAACCTGCGCACCGAGCAGCAATAAAAGTAGCAGTTTAACTGATCCATCCTTCACTCAAAGCCGACTCTATCTCACTGCCAAGCCCTCGGAGCGCAACTCTGGGATCATCAGACTGAGGCACCCTGTGCAGGATACTGCCACACTACAGCTTCCGCCCATGCAACGGGCTGCCTAAGGTCTTTCCGGAAAATCAACAGTAACGTTGGTAGACCCGCTAACGTAGAACTTGTGAAACTTGCTTTGCGTCAATACCAGGTATTTTGTAGTCCTTGTCATTATGATGGCGCGCGGAGGCATGTACGGCAGTGCTGGTCTGGAAGAGGCACTACCGTCGTCTCGTATGGACAGAAGAGAGGATCGGTACAAGCCATCAAATGACAGGGGTTGCCAATGTCTGTGACCCTCGTCAGGAATACTGCTAAGCTTAGCGCTGTAAATGTGTTCCCCGCCCCCGGGGTTGTCTCCCCACGTGCACGAGCCTGACAGACAACTACCGAAATGTGTGTCTCCTGGAGTCCCCTCTTTAACTCGGACCCCAATCTGGCCTGAGACCTTTCTAGAACGTAAGTCGAACTTTGTTGTGTTTGTGTGGCTCTAGTTTAAAAGGAATGAAGCATTTTTGCAAAAGAAGTGGGCGCGACTAGACCGACTGCTCTCGATCATATCTGCTATGCTCTGCCGATGATCTAGTGACACATTATACCAAATAAGTTTGCCTCAATAAGCGTTTAAGACACCAGTGTACTGCCTGCAGCGTGTGTGTGGGTGGCACTCTTACTGAAAACACTTCCAGCAAGCAAGCAAAAACGAGGGTCAAGGTTATCGTATCTGTGTGCATCCAGGCGGATACTACAAGTGGACAAATGTATCGCGATGAAACGGGCTACCCCCACGTCAGGGCAATTCAGGATCTGCTCAAACATGGGGGCGGACTTTAGTTATTCGAAAACCACGTAAGCGATGCGCCGTGCGGTCTTAAGGCGCATTTACTGCACGTTGAGGGCGAAATAGAGTCGTTGCCGTTCCGCCAATTGCCGGCAATATTTCACGCTGTCAGTACCATGAAGAGACTTTTGCTTTGTATACGACAAGATGACCCGGACCGGGCAGTAGCCCGTCCGAAGCTACCGGACCTCCTGAAATACGATAAATAGGACTATGAGAAACGACCAGAGATCTTTCCCG'"
      ]
     },
     "execution_count": 2,
     "metadata": {},
     "output_type": "execute_result"
    }
   ],
   "source": [
    "DNA"
   ]
  },
  {
   "cell_type": "code",
   "execution_count": 3,
   "id": "626486d2",
   "metadata": {
    "colab": {
     "base_uri": "https://localhost:8080/"
    },
    "id": "626486d2",
    "outputId": "f675016b-9ac4-4991-8e3c-3f134cf7cc2e"
   },
   "outputs": [
    {
     "data": {
      "text/plain": [
       "10000"
      ]
     },
     "execution_count": 3,
     "metadata": {},
     "output_type": "execute_result"
    }
   ],
   "source": [
    "text_file = open(\"Synthetic_Genome.txt\", \"w\")\n",
    "n = text_file.write(DNA)\n",
    "text_file.close()\n",
    "len(DNA)"
   ]
  },
  {
   "cell_type": "markdown",
   "id": "YlHYmEFlCYFV",
   "metadata": {
    "id": "YlHYmEFlCYFV"
   },
   "source": [
    "# **Pool A**"
   ]
  },
  {
   "cell_type": "code",
   "execution_count": 4,
   "id": "8296038a",
   "metadata": {
    "id": "8296038a"
   },
   "outputs": [],
   "source": [
    "poolA=[]\n",
    "substr=\"\"\n",
    "for i in range(len(DNA)):\n",
    "    substr=substr+DNA[i]\n",
    "    if len(substr)%250==0:\n",
    "        poolA.append(substr)\n",
    "        substr=\"\"\n",
    "    \n",
    "    "
   ]
  },
  {
   "cell_type": "code",
   "execution_count": 5,
   "id": "33023ca8",
   "metadata": {
    "colab": {
     "base_uri": "https://localhost:8080/"
    },
    "id": "33023ca8",
    "outputId": "732c9619-e074-4a00-f397-4a35bdbebb90",
    "scrolled": true
   },
   "outputs": [
    {
     "data": {
      "text/plain": [
       "40"
      ]
     },
     "execution_count": 5,
     "metadata": {},
     "output_type": "execute_result"
    }
   ],
   "source": [
    "len(poolA)"
   ]
  },
  {
   "cell_type": "code",
   "execution_count": 6,
   "id": "7b9cd627",
   "metadata": {
    "id": "7b9cd627"
   },
   "outputs": [],
   "source": [
    "a_file = open(\"Pool_A.txt\", \"w\")\n",
    "for row in poolA:\n",
    "    a_file.write(row)\n",
    "    a_file.write(\"\\n\\n\")\n",
    "\n",
    "a_file.close()"
   ]
  },
  {
   "cell_type": "code",
   "execution_count": 7,
   "id": "8lQnVKxy6GsD",
   "metadata": {
    "colab": {
     "base_uri": "https://localhost:8080/"
    },
    "id": "8lQnVKxy6GsD",
    "outputId": "88fce353-59ec-4a60-c697-a255d6a99bcf"
   },
   "outputs": [
    {
     "name": "stdout",
     "output_type": "stream",
     "text": [
      "Mounted at /content/drive\n"
     ]
    }
   ],
   "source": [
    "from google.colab import drive\n",
    "drive.mount('/content/drive')"
   ]
  },
  {
   "cell_type": "markdown",
   "id": "HuAxzd94Ccc7",
   "metadata": {
    "id": "HuAxzd94Ccc7"
   },
   "source": [
    "# **Pool B**"
   ]
  },
  {
   "cell_type": "code",
   "execution_count": 8,
   "id": "4b1cb511",
   "metadata": {
    "id": "4b1cb511"
   },
   "outputs": [],
   "source": [
    "poolB=[]\n",
    "for i in range(len(DNA)-250):\n",
    "    if i%243==0:\n",
    "        for k in range(4):\n",
    "            poolB.append(DNA[i:i+250])\n",
    "        "
   ]
  },
  {
   "cell_type": "code",
   "execution_count": 9,
   "id": "c21788fe",
   "metadata": {
    "id": "c21788fe"
   },
   "outputs": [],
   "source": [
    "a_file = open(\"Pool_B.txt\", \"w\")\n",
    "for row in poolB:\n",
    "    a_file.write(row)\n",
    "    a_file.write(\"\\n\\n\")\n",
    "\n",
    "a_file.close()"
   ]
  },
  {
   "cell_type": "code",
   "execution_count": 10,
   "id": "b6ff0976",
   "metadata": {
    "colab": {
     "base_uri": "https://localhost:8080/"
    },
    "id": "b6ff0976",
    "outputId": "3e849fd9-ea98-4286-8f2d-788436219eff"
   },
   "outputs": [
    {
     "data": {
      "text/plain": [
       "164"
      ]
     },
     "execution_count": 10,
     "metadata": {},
     "output_type": "execute_result"
    }
   ],
   "source": [
    "len(poolB)"
   ]
  },
  {
   "cell_type": "markdown",
   "id": "fTEgD69mChmN",
   "metadata": {
    "id": "fTEgD69mChmN"
   },
   "source": [
    "# **Pool C**"
   ]
  },
  {
   "cell_type": "code",
   "execution_count": 11,
   "id": "0bf4e972",
   "metadata": {
    "id": "0bf4e972"
   },
   "outputs": [],
   "source": [
    "poolC=[]\n",
    "for i in range(len(DNA)-250):\n",
    "    for j in range(30):\n",
    "        if i%236==0:\n",
    "            poolC.append(DNA[i:i+250])"
   ]
  },
  {
   "cell_type": "code",
   "execution_count": 12,
   "id": "c7749a2c",
   "metadata": {
    "colab": {
     "base_uri": "https://localhost:8080/"
    },
    "id": "c7749a2c",
    "outputId": "e6949f93-51a2-402d-b77f-b5f492b5862c"
   },
   "outputs": [
    {
     "data": {
      "text/plain": [
       "1260"
      ]
     },
     "execution_count": 12,
     "metadata": {},
     "output_type": "execute_result"
    }
   ],
   "source": [
    "len(poolC)"
   ]
  },
  {
   "cell_type": "code",
   "execution_count": 13,
   "id": "53037d47",
   "metadata": {
    "id": "53037d47"
   },
   "outputs": [],
   "source": [
    "a_file = open(\"Pool_C.txt\", \"w\")\n",
    "for row in poolC:\n",
    "    a_file.write(row)\n",
    "    a_file.write(\"\\n\\n\")\n",
    "\n",
    "a_file.close()"
   ]
  },
  {
   "cell_type": "markdown",
   "id": "9lprzYUgCtGB",
   "metadata": {
    "id": "9lprzYUgCtGB"
   },
   "source": [
    "# **Greedy SCS**"
   ]
  },
  {
   "cell_type": "code",
   "execution_count": 14,
   "id": "ad5640d4",
   "metadata": {
    "id": "ad5640d4"
   },
   "outputs": [],
   "source": [
    "import itertools\n",
    "\n",
    "def overlap(read_a, read_b, min_length):\n",
    "    start = 0 # start all the way at the left\n",
    "    while True:\n",
    "        start = read_a.find(read_b[:min_length], start)\n",
    "        if start == -1:\n",
    "            return 0\n",
    "        if read_b.startswith(read_a[start:]):\n",
    "            return len(read_a)-start\n",
    "        start += 1\n"
   ]
  },
  {
   "cell_type": "code",
   "execution_count": 15,
   "id": "e5f48bd6",
   "metadata": {
    "id": "e5f48bd6"
   },
   "outputs": [],
   "source": [
    "def shortestCommonSuperstring(string_set):\n",
    "    maxOlen=0\n",
    "    read1, read2 = None, None\n",
    "    for i,j in itertools.permutations(string_set,2):\n",
    "        olen = overlap(i, j, min_length=9)\n",
    "        if olen>maxOlen:\n",
    "            read1,read2=i,j\n",
    "            maxOlen=olen\n",
    "    while maxOlen>0:\n",
    "        string_set.remove(read1)\n",
    "        string_set.remove(read2)\n",
    "        string_set.append(read1+read2[maxOlen:])\n",
    "        maxOlen=0\n",
    "        read1, read2 = None, None\n",
    "        for i,j in itertools.permutations(string_set,2):\n",
    "            olen = overlap(i, j, min_length=9)\n",
    "            if olen>maxOlen:\n",
    "                read1,read2=i,j\n",
    "                maxOlen=olen\n",
    "        return ''.join(string_set)\n",
    "    \n",
    "    "
   ]
  },
  {
   "cell_type": "markdown",
   "id": "3e74179b",
   "metadata": {
    "id": "3e74179b"
   },
   "source": [
    "### SCS on the pools"
   ]
  },
  {
   "cell_type": "code",
   "execution_count": 16,
   "id": "b549204f",
   "metadata": {
    "colab": {
     "base_uri": "https://localhost:8080/"
    },
    "id": "b549204f",
    "outputId": "e678bf31-10d9-4365-9769-c43e4e4384bd"
   },
   "outputs": [
    {
     "name": "stdout",
     "output_type": "stream",
     "text": [
      "None\n"
     ]
    }
   ],
   "source": [
    "print(shortestCommonSuperstring(poolA))\n",
    "text_file = open(\"Pool_A_SCS.txt\", \"w\")\n",
    "n = text_file.write(\"\")\n",
    "text_file.close()"
   ]
  },
  {
   "cell_type": "code",
   "execution_count": 17,
   "id": "28bd3ab0",
   "metadata": {
    "colab": {
     "base_uri": "https://localhost:8080/"
    },
    "id": "28bd3ab0",
    "outputId": "b482b276-3843-4c0f-a286-6124babf4c50"
   },
   "outputs": [
    {
     "data": {
      "text/plain": [
       "40750"
      ]
     },
     "execution_count": 17,
     "metadata": {},
     "output_type": "execute_result"
    }
   ],
   "source": [
    "B=shortestCommonSuperstring(poolB)\n",
    "text_file = open(\"Pool_B_SCS.txt\", \"w\")\n",
    "n = text_file.write(B)\n",
    "text_file.close()\n",
    "len(B)"
   ]
  },
  {
   "cell_type": "code",
   "execution_count": 18,
   "id": "268b53d6",
   "metadata": {
    "colab": {
     "base_uri": "https://localhost:8080/"
    },
    "id": "268b53d6",
    "outputId": "f2e242d3-00bc-4079-9c24-59296e826786"
   },
   "outputs": [
    {
     "data": {
      "text/plain": [
       "314750"
      ]
     },
     "execution_count": 18,
     "metadata": {},
     "output_type": "execute_result"
    }
   ],
   "source": [
    "C=shortestCommonSuperstring(poolC)\n",
    "text_file = open(\"Pool_C_SCS.txt\", \"w\")\n",
    "n = text_file.write(C)\n",
    "text_file.close()\n",
    "len(C)"
   ]
  },
  {
   "cell_type": "markdown",
   "id": "CUn9RaUKC16M",
   "metadata": {
    "id": "CUn9RaUKC16M"
   },
   "source": [
    "# **De Bruijn Graph**"
   ]
  },
  {
   "cell_type": "code",
   "execution_count": 19,
   "id": "4bd100e6",
   "metadata": {
    "id": "4bd100e6"
   },
   "outputs": [],
   "source": [
    "#De Bruijn graph implementation borrowed from https://gist.github.com/BenLangmead/5298132\n",
    "from DeBruijn import DeBruijnGraph\n",
    "def de_bruijnize(pool,k):\n",
    "    superstring=\"\"\n",
    "    for read in pool:\n",
    "        G=DeBruijnGraph([read],k)\n",
    "        path =  G.eulerianPath()\n",
    "        string =    path[0]    +    ''.join(map(lambda    x:    x[-1],    path[1:]))\n",
    "        superstring=superstring+string\n",
    "    return superstring"
   ]
  },
  {
   "cell_type": "markdown",
   "id": "e7051a64",
   "metadata": {
    "id": "e7051a64"
   },
   "source": [
    "### De Bruijn on Pool A"
   ]
  },
  {
   "cell_type": "code",
   "execution_count": 20,
   "id": "40a59e38",
   "metadata": {
    "colab": {
     "base_uri": "https://localhost:8080/"
    },
    "id": "40a59e38",
    "outputId": "cd8a37e5-052c-41ef-da56-5026e10562a8",
    "scrolled": true
   },
   "outputs": [
    {
     "name": "stdout",
     "output_type": "stream",
     "text": [
      "10000\n"
     ]
    }
   ],
   "source": [
    "DBJ_A_5=de_bruijnize(poolA,k=5)\n",
    "print(len(DBJ_A_5))\n",
    "text_file = open(\"DeBruijn_A_5.txt\", \"w\")\n",
    "n = text_file.write(DBJ_A_5)\n",
    "text_file.close()"
   ]
  },
  {
   "cell_type": "code",
   "execution_count": 21,
   "id": "4fca01ae",
   "metadata": {
    "colab": {
     "base_uri": "https://localhost:8080/"
    },
    "id": "4fca01ae",
    "outputId": "5585831e-025b-47ac-9be4-de59db3b4c73"
   },
   "outputs": [
    {
     "name": "stdout",
     "output_type": "stream",
     "text": [
      "10000\n"
     ]
    }
   ],
   "source": [
    "DBJ_A_9=de_bruijnize(poolA,k=9)\n",
    "print(len(DBJ_A_9))\n",
    "text_file = open(\"DeBruijn_A_9.txt\", \"w\")\n",
    "n = text_file.write(DBJ_A_9)\n",
    "text_file.close()"
   ]
  },
  {
   "cell_type": "code",
   "execution_count": 22,
   "id": "097b2761",
   "metadata": {
    "colab": {
     "base_uri": "https://localhost:8080/"
    },
    "id": "097b2761",
    "outputId": "388118f7-8083-4e86-d14f-20a8ab05a7f6"
   },
   "outputs": [
    {
     "name": "stdout",
     "output_type": "stream",
     "text": [
      "10000\n"
     ]
    }
   ],
   "source": [
    "DBJ_A_18=de_bruijnize(poolA,k=18)\n",
    "print(len(DBJ_A_18))\n",
    "text_file = open(\"DeBruijn_A_18.txt\", \"w\")\n",
    "n = text_file.write(DBJ_A_18)\n",
    "text_file.close()"
   ]
  },
  {
   "cell_type": "markdown",
   "id": "0a8d07f9",
   "metadata": {
    "id": "0a8d07f9"
   },
   "source": [
    "### De Bruijn on Pool B"
   ]
  },
  {
   "cell_type": "code",
   "execution_count": 23,
   "id": "4f52edd7",
   "metadata": {
    "colab": {
     "base_uri": "https://localhost:8080/"
    },
    "id": "4f52edd7",
    "outputId": "12b04f7a-cea6-435f-b373-21c1210340c2"
   },
   "outputs": [
    {
     "name": "stdout",
     "output_type": "stream",
     "text": [
      "40750\n"
     ]
    }
   ],
   "source": [
    "DBJ_B_5=de_bruijnize(poolB,k=5)\n",
    "print(len(DBJ_B_5))\n",
    "text_file = open(\"DeBruijn_B_5.txt\", \"w\")\n",
    "n = text_file.write(DBJ_B_5)\n",
    "text_file.close()"
   ]
  },
  {
   "cell_type": "code",
   "execution_count": 24,
   "id": "42115d8d",
   "metadata": {
    "colab": {
     "base_uri": "https://localhost:8080/"
    },
    "id": "42115d8d",
    "outputId": "26e08d5a-d3c7-413f-99f9-310576e8a3c7"
   },
   "outputs": [
    {
     "name": "stdout",
     "output_type": "stream",
     "text": [
      "40750\n"
     ]
    }
   ],
   "source": [
    "DBJ_B_9=de_bruijnize(poolB,k=9)\n",
    "print(len(DBJ_B_9))\n",
    "text_file = open(\"DeBruijn_B_9.txt\", \"w\")\n",
    "n = text_file.write(DBJ_B_9)\n",
    "text_file.close()"
   ]
  },
  {
   "cell_type": "code",
   "execution_count": 25,
   "id": "893b58a2",
   "metadata": {
    "colab": {
     "base_uri": "https://localhost:8080/"
    },
    "id": "893b58a2",
    "outputId": "d4a7874d-094c-430a-da45-b7295ba32afe"
   },
   "outputs": [
    {
     "name": "stdout",
     "output_type": "stream",
     "text": [
      "40750\n"
     ]
    }
   ],
   "source": [
    "DBJ_B_18=de_bruijnize(poolB,k=18)\n",
    "print(len(DBJ_B_18))\n",
    "text_file = open(\"DeBruijn_B_18.txt\", \"w\")\n",
    "n = text_file.write(DBJ_B_18)\n",
    "text_file.close()"
   ]
  },
  {
   "cell_type": "markdown",
   "id": "699db0e6",
   "metadata": {
    "id": "699db0e6"
   },
   "source": [
    "### De Bruijn on Pool C"
   ]
  },
  {
   "cell_type": "code",
   "execution_count": 26,
   "id": "09222a83",
   "metadata": {
    "colab": {
     "base_uri": "https://localhost:8080/"
    },
    "id": "09222a83",
    "outputId": "fc5a5043-a49d-418c-a58e-78a60ce41d1f"
   },
   "outputs": [
    {
     "name": "stdout",
     "output_type": "stream",
     "text": [
      "314750\n"
     ]
    }
   ],
   "source": [
    "DBJ_C_5=de_bruijnize(poolC,k=5)\n",
    "print(len(DBJ_C_5))\n",
    "text_file = open(\"DeBruijn_C_5.txt\", \"w\")\n",
    "n = text_file.write(DBJ_C_5)\n",
    "text_file.close()"
   ]
  },
  {
   "cell_type": "code",
   "execution_count": 27,
   "id": "96009f2d",
   "metadata": {
    "colab": {
     "base_uri": "https://localhost:8080/"
    },
    "id": "96009f2d",
    "outputId": "e26d48a0-e354-4218-8e09-78bb63d9492c"
   },
   "outputs": [
    {
     "name": "stdout",
     "output_type": "stream",
     "text": [
      "314750\n"
     ]
    }
   ],
   "source": [
    "DBJ_C_9=de_bruijnize(poolC,k=9)\n",
    "print(len(DBJ_C_9))\n",
    "text_file = open(\"DeBruijn_C_9.txt\", \"w\")\n",
    "n = text_file.write(DBJ_C_9)\n",
    "text_file.close()"
   ]
  },
  {
   "cell_type": "code",
   "execution_count": 28,
   "id": "d4e6d735",
   "metadata": {
    "colab": {
     "base_uri": "https://localhost:8080/"
    },
    "id": "d4e6d735",
    "outputId": "139d77ac-4ae2-4df0-a105-24b7da52cf06"
   },
   "outputs": [
    {
     "name": "stdout",
     "output_type": "stream",
     "text": [
      "314750\n"
     ]
    }
   ],
   "source": [
    "DBJ_C_18=de_bruijnize(poolC,k=18)\n",
    "print(len(DBJ_C_18))\n",
    "text_file = open(\"DeBruijn_C_18.txt\", \"w\")\n",
    "n = text_file.write(DBJ_C_18)\n",
    "text_file.close()"
   ]
  }
 ],
 "metadata": {
  "colab": {
   "collapsed_sections": [],
   "name": "Veerla-1001956663-HW2-CSE5370.ipynb",
   "provenance": []
  },
  "kernelspec": {
   "display_name": "Python 3 (ipykernel)",
   "language": "python",
   "name": "python3"
  },
  "language_info": {
   "codemirror_mode": {
    "name": "ipython",
    "version": 3
   },
   "file_extension": ".py",
   "mimetype": "text/x-python",
   "name": "python",
   "nbconvert_exporter": "python",
   "pygments_lexer": "ipython3",
   "version": "3.7.11"
  }
 },
 "nbformat": 4,
 "nbformat_minor": 5
}
